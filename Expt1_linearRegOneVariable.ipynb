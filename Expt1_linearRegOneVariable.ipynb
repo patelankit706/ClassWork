{
 "cells": [
  {
   "cell_type": "markdown",
   "metadata": {
    "button": false,
    "new_sheet": false,
    "run_control": {
     "read_only": false
    }
   },
   "source": [
    "\n",
    "<h1 align=\"center\"><font size=\"5\">Experiment 1</font></h1>"
   ]
  },
  {
   "cell_type": "markdown",
   "metadata": {},
   "source": [
    "<h3 align=\"center\"><font size=\"4\">Implement Linear Regression of One Variable using Gradient Descent Algorithm</font></h3>\n",
    "<h3 align=\"center\"><font size=\"3\">By: Ankit Patel</font></h3>\n",
    "<h3 align=\"center\"><font size=\"3\">RollNo: 0201CS161006</font></h3>"
   ]
  },
  {
   "cell_type": "code",
   "execution_count": 1,
   "metadata": {},
   "outputs": [],
   "source": [
    "\n",
    "import numpy as np \n",
    "import matplotlib.pyplot as plt \n",
    "%matplotlib inline\n",
    "\n",
    "class Linear_Regression: \n",
    "    def __init__(self, X, Y): \n",
    "        self.X = X \n",
    "        self.Y = Y \n",
    "        self.b = [0, 0] \n",
    "        \n",
    "    def update_coeffs(self, learning_rate): \n",
    "        Y_pred = self.predict() \n",
    "        Y = self.Y \n",
    "        m = len(Y) \n",
    "        self.b[0] = self.b[0] - (learning_rate * ((1/m) *\n",
    "                                np.sum(Y_pred - Y))) \n",
    "\n",
    "        self.b[1] = self.b[1] - (learning_rate * ((1/m) *\n",
    "                                np.sum((Y_pred - Y) * self.X))) \n",
    "\n",
    "    def predict(self, X=[]): \n",
    "        Y_pred = np.array([]) \n",
    "        if not X: X = self.X \n",
    "        b = self.b \n",
    "        for x in X: \n",
    "            Y_pred = np.append(Y_pred, b[0] + (b[1] * x)) \n",
    "\n",
    "        return Y_pred \n",
    "        \n",
    "    def get_current_accuracy(self, Y_pred): \n",
    "        p, e = Y_pred, self.Y \n",
    "        n = len(Y_pred) \n",
    "        return 1-sum( \n",
    "            [ \n",
    "                abs(p[i]-e[i])/e[i] \n",
    "                for i in range(n) \n",
    "                if e[i] != 0] \n",
    "        )/n \n",
    "    #def predict(self, b, yi): \n",
    "\n",
    "    def compute_cost(self, Y_pred): \n",
    "        m = len(self.Y) \n",
    "        J = (1 / 2*m) * (np.sum(Y_pred - self.Y)**2) \n",
    "        return J \n",
    "\n",
    "    def plot_best_fit(self, Y_pred, fig): \n",
    "                f = plt.figure(fig) \n",
    "                plt.scatter(self.X, self.Y, color='b') \n",
    "                plt.plot(self.X, Y_pred, color='g') \n",
    "                f.show()  "
   ]
  },
  {
   "cell_type": "code",
   "execution_count": 2,
   "metadata": {},
   "outputs": [],
   "source": [
    "def LR_one_variable(): \n",
    "    X = np.array([i for i in range(11)]) \n",
    "    Y = np.array([2*i for i in range(11)]) \n",
    "\n",
    "    regressor = Linear_Regression(X, Y) \n",
    "\n",
    "    iterations = 0\n",
    "    steps = 100\n",
    "    learning_rate = 0.01\n",
    "    costs = [] \n",
    "    \n",
    "    #original best-fit line \n",
    "    Y_pred = regressor.predict() \n",
    "    regressor.plot_best_fit(Y_pred, 'Initial Best Fit Line') \n",
    "    \n",
    "\n",
    "    while 1: \n",
    "        Y_pred = regressor.predict() \n",
    "        cost = regressor.compute_cost(Y_pred) \n",
    "        costs.append(cost) \n",
    "        regressor.update_coeffs(learning_rate) \n",
    "\n",
    "        iterations += 1\n",
    "        if iterations % steps == 0: \n",
    "            print(iterations, \"epochs elapsed\") \n",
    "            print(\"Current accuracy is :\", \n",
    "                regressor.get_current_accuracy(Y_pred)) \n",
    "\n",
    "            stop = input(\"Do you want to stop (y/*)??\") \n",
    "            if stop == \"y\": \n",
    "                break\n",
    "\n",
    "    #final best-fit line \n",
    "    regressor.plot_best_fit(Y_pred, 'Final Best Fit Line') \n",
    "\n",
    "    #plot to verify cost fuction decreases \n",
    "    h = plt.figure('Verification') \n",
    "    plt.plot(range(iterations), costs, color='b') \n",
    "    h.show() \n",
    "\n",
    "    # if user wants to predict using the regressor: \n",
    "    regressor.predict([i for i in range(10)]) "
   ]
  },
  {
   "cell_type": "code",
   "execution_count": 3,
   "metadata": {},
   "outputs": [
    {
     "name": "stdout",
     "output_type": "stream",
     "text": [
      "100 epochs elapsed\n",
      "Current accuracy is : 0.9836456109008862\n"
     ]
    },
    {
     "name": "stdin",
     "output_type": "stream",
     "text": [
      "Do you want to stop (y/*)?? y\n"
     ]
    },
    {
     "data": {
      "image/png": "[encoded data removed]",
      "text/plain": [
       "<Figure size 432x288 with 1 Axes>"
      ]
     },
     "metadata": {
      "needs_background": "light"
     },
     "output_type": "display_data"
    },
    {
     "data": {
      "image/png": "[encoded data removed]",
      "text/plain": [
       "<Figure size 432x288 with 1 Axes>"
      ]
     },
     "metadata": {
      "needs_background": "light"
     },
     "output_type": "display_data"
    },
    {
     "data": {
      "image/png": "[encoded data removed]",
      "text/plain": [
       "<Figure size 432x288 with 1 Axes>"
      ]
     },
     "metadata": {
      "needs_background": "light"
     },
     "output_type": "display_data"
    }
   ],
   "source": [
    "LR_one_variable()"
   ]
  }
 ],
 "metadata": {
  "kernelspec": {
   "display_name": "Python",
   "language": "python",
   "name": "conda-env-python-py"
  },
  "language_info": {
   "codemirror_mode": {
    "name": "ipython",
    "version": 3
   },
   "file_extension": ".py",
   "mimetype": "text/x-python",
   "name": "python",
   "nbconvert_exporter": "python",
   "pygments_lexer": "ipython3",
   "version": "3.6.10"
  }
 },
 "nbformat": 4,
 "nbformat_minor": 4
}
